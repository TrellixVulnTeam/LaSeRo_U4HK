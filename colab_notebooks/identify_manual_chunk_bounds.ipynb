{
 "cells": [
  {
   "cell_type": "code",
   "execution_count": 1,
   "metadata": {},
   "outputs": [],
   "source": [
    "import os\n",
    "import rasterio as rio\n",
    "import rasterio.windows as wnd\n",
    "import rasterio.transform as transform\n",
    "import matplotlib.pyplot as plt\n",
    "import numpy as np"
   ]
  },
  {
   "cell_type": "code",
   "execution_count": 2,
   "metadata": {},
   "outputs": [],
   "source": [
    "base_dir = \"/home/dsa/DSA/qc\"\n",
    "man_dir = os.path.join(base_dir, \"manual_labels\")\n",
    "full_scene_ref_dir = os.path.join(base_dir, \"full_scene_ref_bands\")"
   ]
  },
  {
   "cell_type": "code",
   "execution_count": 3,
   "metadata": {},
   "outputs": [],
   "source": [
    "scene_ids = [i[:-8] for i in os.listdir(man_dir) if i[-3:] == \"tif\"]\n"
   ]
  },
  {
   "cell_type": "code",
   "execution_count": 4,
   "metadata": {},
   "outputs": [],
   "source": [
    "def save_qc_chunk(man_out_path, qc_data):\n",
    "    # convert cell values to 0,1 from 1,2 for image diffing\n",
    "    qc_data = qc_data - np.ones(qc_data.shape)\n",
    "    # save qc chunk as .npy file for convenience/eliminating rasterio dependency\n",
    "    np.save(man_out_path, qc_data, allow_pickle=True)"
   ]
  },
  {
   "cell_type": "code",
   "execution_count": 5,
   "metadata": {},
   "outputs": [],
   "source": [
    "def get_rounded_window(qc_bounds, full_scene_band_path):\n",
    "    with rio.open(full_scene_band_path) as img_ref:\n",
    "        image_meta = img_ref.meta.copy()\n",
    "        image_transform = img_ref.transform\n",
    "        \n",
    "    window = wnd.from_bounds(qc_bounds[0],\n",
    "                                qc_bounds[1],\n",
    "                                qc_bounds[2],\n",
    "                                qc_bounds[3],\n",
    "                                transform=image_transform)\n",
    "    return wnd.Window(round(window.col_off), round(window.row_off), int(window.width), int(window.height))"
   ]
  },
  {
   "cell_type": "code",
   "execution_count": 6,
   "metadata": {},
   "outputs": [],
   "source": [
    "def get_qc_chunks(window, chunk_size):\n",
    "    \n",
    "    row = window.row_off / chunk_size\n",
    "    col = window.col_off / chunk_size\n",
    "    row_index = int((row - int(row)) * chunk_size)\n",
    "    col_index = int((col - int(col)) * chunk_size)\n",
    "    \n",
    "    chunks_needed = []\n",
    "    chunks_needed.append((int(row), int(col)))\n",
    "    extra_row_needed = (chunk_size - row_index) < window.height\n",
    "    extra_col_needed = (chunk_size - col_index) < window.width\n",
    "    if extra_row_needed:\n",
    "        chunks_needed.append((int(row) + 1, int(col)))\n",
    "    if extra_col_needed:\n",
    "        chunks_needed.append((int(row), int(col) + 1))\n",
    "    if extra_row_needed and extra_col_needed:\n",
    "        chunks_needed.append((int(row) + 1, int(col) + 1))\n",
    "    \n",
    "    return {\"chunks\":sorted(chunks_needed), \"row\": row_index, \"col\": col_index,\n",
    "            \"width\": window.width, \"height\": window.height}"
   ]
  },
  {
   "cell_type": "code",
   "execution_count": 7,
   "metadata": {},
   "outputs": [
    {
     "name": "stdout",
     "output_type": "stream",
     "text": [
      "/home/dsa/DSA/qc/manual_labels/LC80311222014338LGN00_man.tif\n",
      "/home/dsa/DSA/qc/manual_labels/LC80311222014338LGN00_man.npy\n",
      "/home/dsa/DSA/qc/manual_labels/LC80631112014002LGN00_man.tif\n",
      "/home/dsa/DSA/qc/manual_labels/LC80631112014002LGN00_man.npy\n",
      "/home/dsa/DSA/qc/manual_labels/LC81041072013303LGN00_man.tif\n",
      "/home/dsa/DSA/qc/manual_labels/LC81041072013303LGN00_man.npy\n",
      "/home/dsa/DSA/qc/manual_labels/LC81431082013352LGN00_man.tif\n",
      "/home/dsa/DSA/qc/manual_labels/LC81431082013352LGN00_man.npy\n",
      "/home/dsa/DSA/qc/manual_labels/LC81681112014002LGN00_man.tif\n",
      "/home/dsa/DSA/qc/manual_labels/LC81681112014002LGN00_man.npy\n",
      "/home/dsa/DSA/qc/manual_labels/LC82071182013336LGN00_man.tif\n",
      "/home/dsa/DSA/qc/manual_labels/LC82071182013336LGN00_man.npy\n",
      "/home/dsa/DSA/qc/manual_labels/LC82091172014001LGN00_man.tif\n",
      "/home/dsa/DSA/qc/manual_labels/LC82091172014001LGN00_man.npy\n",
      "/home/dsa/DSA/qc/manual_labels/LC82131132013362LGN00_man.tif\n",
      "/home/dsa/DSA/qc/manual_labels/LC82131132013362LGN00_man.npy\n",
      "/home/dsa/DSA/qc/manual_labels/LC82201072015017LGN00_man.tif\n",
      "/home/dsa/DSA/qc/manual_labels/LC82201072015017LGN00_man.npy\n",
      "/home/dsa/DSA/qc/manual_labels/ryder_bay_abj_man.tif\n",
      "/home/dsa/DSA/qc/manual_labels/LC82201072015017LGN00_ryder_man.npy\n"
     ]
    }
   ],
   "source": [
    "chunk_params = {}\n",
    "for i in scene_ids:\n",
    "    man_path = os.path.join(man_dir, i + \"_man.tif\")\n",
    "    \n",
    "    full_scene_band_path = os.path.join(full_scene_ref_dir, i, i + \"_B1.TIF\")\n",
    "    man_out_path = os.path.join(man_dir, i + \"_man.npy\")\n",
    "    if i == \"ryder_bay_abj\":\n",
    "        full_scene_band_path = os.path.join(full_scene_ref_dir, \"LC82201072015017LGN00\", \"LC82201072015017LGN00_B1.TIF\")\n",
    "        man_out_path = os.path.join(man_dir, \"LC82201072015017LGN00_ryder_man.npy\")\n",
    "    assert os.path.exists(man_path)\n",
    "    assert os.path.exists(full_scene_band_path)\n",
    "    \n",
    "    with rio.open(man_path) as qc_chunk:\n",
    "        qc_bounds = qc_chunk.bounds\n",
    "        qc_data = qc_chunk.read(1)\n",
    "    save_qc_chunk(man_out_path, qc_data)\n",
    "    rounded_window = get_rounded_window(qc_bounds, full_scene_band_path)\n",
    "    qc_chunks = get_qc_chunks(rounded_window, 512)\n",
    "    chunk_params[i] = qc_chunks"
   ]
  },
  {
   "cell_type": "code",
   "execution_count": 8,
   "metadata": {},
   "outputs": [],
   "source": [
    "import json"
   ]
  },
  {
   "cell_type": "code",
   "execution_count": 9,
   "metadata": {},
   "outputs": [
    {
     "name": "stdout",
     "output_type": "stream",
     "text": [
      "{'LC80311222014338LGN00': {'chunks': [(6, 1), (6, 2), (7, 1), (7, 2)], 'row': 317, 'col': 498, 'width': 333, 'height': 333}, 'LC80631112014002LGN00': {'chunks': [(6, 6), (6, 7)], 'row': 165, 'col': 272, 'width': 333, 'height': 333}, 'LC81041072013303LGN00': {'chunks': [(6, 14), (7, 14)], 'row': 282, 'col': 20, 'width': 333, 'height': 334}, 'LC81431082013352LGN00': {'chunks': [(3, 6), (4, 6)], 'row': 508, 'col': 64, 'width': 333, 'height': 334}, 'LC81681112014002LGN00': {'chunks': [(6, 2), (6, 3), (7, 2), (7, 3)], 'row': 391, 'col': 318, 'width': 334, 'height': 334}, 'LC82071182013336LGN00': {'chunks': [(7, 8), (7, 9), (8, 8), (8, 9)], 'row': 488, 'col': 482, 'width': 334, 'height': 334}, 'LC82091172014001LGN00': {'chunks': [(15, 6), (15, 7), (16, 6), (16, 7)], 'row': 296, 'col': 505, 'width': 333, 'height': 333}, 'LC82131132013362LGN00': {'chunks': [(14, 9), (15, 9)], 'row': 456, 'col': 160, 'width': 333, 'height': 333}, 'LC82201072015017LGN00': {'chunks': [(8, 13), (8, 14)], 'row': 154, 'col': 202, 'width': 333, 'height': 333}, 'ryder_bay_abj': {'chunks': [(12, 11), (12, 12), (13, 11), (13, 12)], 'row': 479, 'col': 487, 'width': 333, 'height': 333}}\n"
     ]
    }
   ],
   "source": [
    "print(chunk_params)"
   ]
  },
  {
   "cell_type": "code",
   "execution_count": 18,
   "metadata": {},
   "outputs": [],
   "source": [
    "output = json.dumps(chunk_params)"
   ]
  },
  {
   "cell_type": "code",
   "execution_count": 19,
   "metadata": {},
   "outputs": [],
   "source": [
    "with open(os.path.join(base_dir, \"chunk_windows.json\"), \"w+\") as out_file:\n",
    "    out_file.write(output)"
   ]
  },
  {
   "cell_type": "code",
   "execution_count": 20,
   "metadata": {},
   "outputs": [],
   "source": [
    "with open(os.path.join(base_dir, \"chunk_windows.json\"), \"r\") as test:\n",
    "    testjson = json.load(test)"
   ]
  },
  {
   "cell_type": "code",
   "execution_count": 21,
   "metadata": {},
   "outputs": [
    {
     "name": "stdout",
     "output_type": "stream",
     "text": [
      "{'LC80311222014338LGN00': {'chunks': [[6, 1], [6, 2], [7, 1], [7, 2]], 'row': 317, 'col': 498, 'width': 333, 'height': 333}, 'LC80631112014002LGN00': {'chunks': [[6, 6], [6, 7]], 'row': 165, 'col': 272, 'width': 333, 'height': 333}, 'LC81041072013303LGN00': {'chunks': [[6, 14], [7, 14]], 'row': 282, 'col': 20, 'width': 333, 'height': 334}, 'LC81431082013352LGN00': {'chunks': [[3, 6], [4, 6]], 'row': 508, 'col': 64, 'width': 333, 'height': 334}, 'LC81681112014002LGN00': {'chunks': [[6, 2], [6, 3], [7, 2], [7, 3]], 'row': 391, 'col': 318, 'width': 334, 'height': 334}, 'LC82071182013336LGN00': {'chunks': [[7, 8], [7, 9], [8, 8], [8, 9]], 'row': 488, 'col': 482, 'width': 334, 'height': 334}, 'LC82091172014001LGN00': {'chunks': [[15, 6], [15, 7], [16, 6], [16, 7]], 'row': 296, 'col': 505, 'width': 333, 'height': 333}, 'LC82131132013362LGN00': {'chunks': [[14, 9], [15, 9]], 'row': 456, 'col': 160, 'width': 333, 'height': 333}, 'LC82201072015017LGN00': {'chunks': [[8, 13], [8, 14]], 'row': 154, 'col': 202, 'width': 333, 'height': 333}, 'ryder_bay_abj': {'chunks': [[12, 11], [12, 12], [13, 11], [13, 12]], 'row': 479, 'col': 487, 'width': 333, 'height': 333}}\n"
     ]
    }
   ],
   "source": [
    "print(testjson)"
   ]
  },
  {
   "cell_type": "code",
   "execution_count": 22,
   "metadata": {},
   "outputs": [
    {
     "data": {
      "text/plain": [
       "{'LC80311222014338LGN00': {'chunks': [[6, 1], [6, 2], [7, 1], [7, 2]],\n",
       "  'row': 317,\n",
       "  'col': 498,\n",
       "  'width': 333,\n",
       "  'height': 333},\n",
       " 'LC80631112014002LGN00': {'chunks': [[6, 6], [6, 7]],\n",
       "  'row': 165,\n",
       "  'col': 272,\n",
       "  'width': 333,\n",
       "  'height': 333},\n",
       " 'LC81041072013303LGN00': {'chunks': [[6, 14], [7, 14]],\n",
       "  'row': 282,\n",
       "  'col': 20,\n",
       "  'width': 333,\n",
       "  'height': 334},\n",
       " 'LC81431082013352LGN00': {'chunks': [[3, 6], [4, 6]],\n",
       "  'row': 508,\n",
       "  'col': 64,\n",
       "  'width': 333,\n",
       "  'height': 334},\n",
       " 'LC81681112014002LGN00': {'chunks': [[6, 2], [6, 3], [7, 2], [7, 3]],\n",
       "  'row': 391,\n",
       "  'col': 318,\n",
       "  'width': 334,\n",
       "  'height': 334},\n",
       " 'LC82071182013336LGN00': {'chunks': [[7, 8], [7, 9], [8, 8], [8, 9]],\n",
       "  'row': 488,\n",
       "  'col': 482,\n",
       "  'width': 334,\n",
       "  'height': 334},\n",
       " 'LC82091172014001LGN00': {'chunks': [[15, 6], [15, 7], [16, 6], [16, 7]],\n",
       "  'row': 296,\n",
       "  'col': 505,\n",
       "  'width': 333,\n",
       "  'height': 333},\n",
       " 'LC82131132013362LGN00': {'chunks': [[14, 9], [15, 9]],\n",
       "  'row': 456,\n",
       "  'col': 160,\n",
       "  'width': 333,\n",
       "  'height': 333},\n",
       " 'LC82201072015017LGN00': {'chunks': [[8, 13], [8, 14]],\n",
       "  'row': 154,\n",
       "  'col': 202,\n",
       "  'width': 333,\n",
       "  'height': 333},\n",
       " 'ryder_bay_abj': {'chunks': [[12, 11], [12, 12], [13, 11], [13, 12]],\n",
       "  'row': 479,\n",
       "  'col': 487,\n",
       "  'width': 333,\n",
       "  'height': 333}}"
      ]
     },
     "execution_count": 22,
     "metadata": {},
     "output_type": "execute_result"
    }
   ],
   "source": [
    "testjson"
   ]
  },
  {
   "cell_type": "code",
   "execution_count": null,
   "metadata": {},
   "outputs": [],
   "source": []
  }
 ],
 "metadata": {
  "kernelspec": {
   "display_name": "Python 3",
   "language": "python",
   "name": "python3"
  },
  "language_info": {
   "codemirror_mode": {
    "name": "ipython",
    "version": 3
   },
   "file_extension": ".py",
   "mimetype": "text/x-python",
   "name": "python",
   "nbconvert_exporter": "python",
   "pygments_lexer": "ipython3",
   "version": "3.6.8"
  }
 },
 "nbformat": 4,
 "nbformat_minor": 2
}
